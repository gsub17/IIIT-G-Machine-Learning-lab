{
  "nbformat": 4,
  "nbformat_minor": 0,
  "metadata": {
    "colab": {
      "name": "Web Data Mining Lab 2.ipynb",
      "provenance": []
    },
    "kernelspec": {
      "name": "python3",
      "display_name": "Python 3"
    },
    "language_info": {
      "name": "python"
    }
  },
  "cells": [
    {
      "cell_type": "code",
      "execution_count": null,
      "metadata": {
        "id": "Xoct6jP-j0GL"
      },
      "outputs": [],
      "source": [
        ""
      ]
    },
    {
      "cell_type": "markdown",
      "source": [
        "Chapter 2:\n",
        "find() and find_all() or findAll()"
      ],
      "metadata": {
        "id": "R-PTNRbjk53F"
      }
    },
    {
      "cell_type": "code",
      "source": [
        "from urllib.request import urlopen\n",
        "from bs4 import BeautifulSoup\n",
        "html=urlopen('http://www.pythonscraping.com/pages/page1.html')\n",
        "bs=BeautifulSoup(html.read(),'html.parser')\n",
        "\n",
        "print(bs.prettify())\n",
        "#for l in bs.find_all():\n",
        "#  print(l,'\\n\\n\\n')\n",
        "l=bs.find_all()\n",
        "print('Number of tags=',len(l))"
      ],
      "metadata": {
        "colab": {
          "base_uri": "https://localhost:8080/"
        },
        "id": "edrkKbeDlI62",
        "outputId": "8e4a0c11-65e5-4cd7-9888-e6d86c047791"
      },
      "execution_count": null,
      "outputs": [
        {
          "output_type": "stream",
          "name": "stdout",
          "text": [
            "<html>\n",
            " <head>\n",
            "  <title>\n",
            "   A Useful Page\n",
            "  </title>\n",
            " </head>\n",
            " <body>\n",
            "  <h1>\n",
            "   An Interesting Title\n",
            "  </h1>\n",
            "  <div>\n",
            "   Lorem ipsum dolor sit amet, consectetur adipisicing elit, sed do eiusmod tempor incididunt ut labore et dolore magna aliqua. Ut enim ad minim veniam, quis nostrud exercitation ullamco laboris nisi ut aliquip ex ea commodo consequat. Duis aute irure dolor in reprehenderit in voluptate velit esse cillum dolore eu fugiat nulla pariatur. Excepteur sint occaecat cupidatat non proident, sunt in culpa qui officia deserunt mollit anim id est laborum.\n",
            "  </div>\n",
            " </body>\n",
            "</html>\n",
            "\n",
            "Number of tags= 6\n",
            "<class 'bs4.element.ResultSet'>\n"
          ]
        }
      ]
    },
    {
      "cell_type": "code",
      "source": [
        "print(bs.findAll('div'))"
      ],
      "metadata": {
        "colab": {
          "base_uri": "https://localhost:8080/"
        },
        "id": "NVgBhvcIm_Eb",
        "outputId": "62df7ab1-41a5-45d2-e3aa-c3c90755f867"
      },
      "execution_count": null,
      "outputs": [
        {
          "output_type": "stream",
          "name": "stdout",
          "text": [
            "<div>\n",
            "Lorem ipsum dolor sit amet, consectetur adipisicing elit, sed do eiusmod tempor incididunt ut labore et dolore magna aliqua. Ut enim ad minim veniam, quis nostrud exercitation ullamco laboris nisi ut aliquip ex ea commodo consequat. Duis aute irure dolor in reprehenderit in voluptate velit esse cillum dolore eu fugiat nulla pariatur. Excepteur sint occaecat cupidatat non proident, sunt in culpa qui officia deserunt mollit anim id est laborum.\n",
            "</div>\n"
          ]
        }
      ]
    },
    {
      "cell_type": "markdown",
      "source": [
        "find() and findAll()\n",
        "findAll(tag, attributes,recursive, text, limit, keywords)\n",
        "\n",
        "-tag : The HTML tags\n",
        ".findAll(['h1','h2','h3']) # A list can also be passed to it\n",
        "\n",
        "-attributes\n",
        ".find_all('span',{'class':'red'}) #Method 1\n",
        "\n",
        "-recursive\n",
        "Boolean type\n",
        "If recursive is True, find_all will look into children\n",
        "If recursive is false, find_all will only look at top-level tags\n",
        "By default it is True\n",
        "\n",
        "-text\n",
        "It matches text content of the tags\n",
        "\n",
        "-limit\n",
        "\n",
        "x: Retrieve the first x items\n",
        "So findAll with limit as one is equivalent to find\n",
        "\n",
        "-keyword: \n",
        "It allows to select tags that contain a particular attribute or a set of attributes\n",
        ".find_all('img',src=\"../img/gifts/img3.jpg\") #Method 2\n",
        "\n",
        "Problem with 'class' attribute\n",
        "bs.findAll(class='green') will not work.\n",
        "\n",
        "Eith of the two solutions may be used\n",
        "bs.findAll(class_='green')\n",
        "bs.findAll('',{'class':'green'})\n",
        "\n",
        "\n"
      ],
      "metadata": {
        "id": "-7egrukKmoLN"
      }
    },
    {
      "cell_type": "markdown",
      "source": [
        "get_text()\n",
        "Extracts text from a tag"
      ],
      "metadata": {
        "id": "4Ek4xTDkq7B4"
      }
    },
    {
      "cell_type": "code",
      "source": [
        "from urllib.request import urlopen\n",
        "from bs4 import BeautifulSoup\n",
        "html=urlopen('https://www.pythonscraping.com/pages/warandpeace.html')\n",
        "bs=BeautifulSoup(html.read(),'html.parser')\n",
        "\n",
        "#print(bs.prettify())\n",
        "#for l in bs.find_all():\n",
        "#  print(l,'\\n\\n\\n')\n",
        "l=bs.find_all()\n",
        "print('Number of tags=',len(l))\n",
        "print(l[5].get_text())"
      ],
      "metadata": {
        "colab": {
          "base_uri": "https://localhost:8080/"
        },
        "id": "TyHgrqeprGba",
        "outputId": "c70e8723-b000-4d5b-9036-c1f1014172ed"
      },
      "execution_count": null,
      "outputs": [
        {
          "output_type": "stream",
          "name": "stdout",
          "text": [
            "Number of tags= 116\n",
            "Chapter 1\n"
          ]
        }
      ]
    },
    {
      "cell_type": "code",
      "source": [
        "for l in bs.findAll('span',{'class':{'green','red'}},limit=6):\n",
        "  print(l.get_text())"
      ],
      "metadata": {
        "colab": {
          "base_uri": "https://localhost:8080/"
        },
        "id": "ypetESegsJfr",
        "outputId": "40233e65-6d1f-4c27-db3d-c0aecaa023f9"
      },
      "execution_count": null,
      "outputs": [
        {
          "output_type": "stream",
          "name": "stdout",
          "text": [
            "Well, Prince, so Genoa and Lucca are now just family estates of the\n",
            "Buonapartes. But I warn you, if you don't tell me that this means war,\n",
            "if you still try to defend the infamies and horrors perpetrated by\n",
            "that Antichrist- I really believe he is Antichrist- I will have\n",
            "nothing more to do with you and you are no longer my friend, no longer\n",
            "my 'faithful slave,' as you call yourself! But how do you do? I see\n",
            "I have frightened you- sit down and tell me all the news.\n",
            "Anna\n",
            "Pavlovna Scherer\n",
            "Empress Marya\n",
            "Fedorovna\n",
            "Prince Vasili Kuragin\n",
            "Anna Pavlovna\n",
            "St. Petersburg\n"
          ]
        }
      ]
    },
    {
      "cell_type": "markdown",
      "source": [
        "Searching for some text"
      ],
      "metadata": {
        "id": "LkQGitY6t0aS"
      }
    },
    {
      "cell_type": "code",
      "source": [
        "bs.findAll(text='Anna Pavlovna')\n"
      ],
      "metadata": {
        "colab": {
          "base_uri": "https://localhost:8080/"
        },
        "id": "FaWsZgkLtxlD",
        "outputId": "927aabcb-a08e-47da-afb5-c5db03853e89"
      },
      "execution_count": null,
      "outputs": [
        {
          "output_type": "execute_result",
          "data": {
            "text/plain": [
              "['Anna Pavlovna',\n",
              " 'Anna Pavlovna',\n",
              " 'Anna Pavlovna',\n",
              " 'Anna Pavlovna',\n",
              " 'Anna Pavlovna',\n",
              " 'Anna Pavlovna',\n",
              " 'Anna Pavlovna']"
            ]
          },
          "metadata": {},
          "execution_count": 28
        }
      ]
    }
  ]
}