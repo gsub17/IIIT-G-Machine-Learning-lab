{
 "cells": [
  {
   "cell_type": "markdown",
   "id": "02d972c3",
   "metadata": {},
   "source": [
    "## write python program to find maximum of 3 numbers?\n"
   ]
  },
  {
   "cell_type": "code",
   "execution_count": 4,
   "id": "2e0eb692",
   "metadata": {},
   "outputs": [
    {
     "name": "stdout",
     "output_type": "stream",
     "text": [
      "70\n",
      "40\n",
      "20\n",
      "70 is the maximum number\n"
     ]
    }
   ],
   "source": [
    "num1 = int(input())\n",
    "num2 = int(input())\n",
    "num3 = int(input())\n",
    "\n",
    "if num1 > num2 and num1 > num3:\n",
    "    print(num1 , \"is the maximum number\")\n",
    "elif num2 > num3 and num2 > num1:\n",
    "    print(num2 , \"is the maximum number\")\n",
    "else :\n",
    "    print(num3 , \"is the maximum number\")\n",
    "\n",
    "    "
   ]
  },
  {
   "cell_type": "code",
   "execution_count": 5,
   "id": "b8e3ad5e",
   "metadata": {},
   "outputs": [
    {
     "name": "stdout",
     "output_type": "stream",
     "text": [
      "70\n"
     ]
    }
   ],
   "source": [
    "print(max(num1 , num2 ,num3))"
   ]
  },
  {
   "cell_type": "markdown",
   "id": "cc5515b4",
   "metadata": {},
   "source": [
    "## write a program to compute sum of n natural number ?"
   ]
  },
  {
   "cell_type": "code",
   "execution_count": 8,
   "id": "9f3fe0cc",
   "metadata": {},
   "outputs": [
    {
     "name": "stdout",
     "output_type": "stream",
     "text": [
      "7\n",
      "28 is the sum of 7 natural numbers \n"
     ]
    }
   ],
   "source": [
    "num = int(input())\n",
    "sum = 0\n",
    "for i in range(1 , num+1,1):\n",
    "    sum = sum + i\n",
    "    \n",
    "print(sum , f\"is the sum of {num} natural numbers \")"
   ]
  },
  {
   "cell_type": "markdown",
   "id": "05a82ed4",
   "metadata": {},
   "source": [
    "## write above code using functions"
   ]
  },
  {
   "cell_type": "code",
   "execution_count": 9,
   "id": "29f3369b",
   "metadata": {},
   "outputs": [
    {
     "name": "stdout",
     "output_type": "stream",
     "text": [
      "30\n",
      "47\n",
      "32\n",
      "47\n"
     ]
    }
   ],
   "source": [
    "def max(a,b,c):\n",
    "    if a>b and a>c:\n",
    "        print(a)\n",
    "    elif b>a and b>c:\n",
    "        print(b)\n",
    "    else:\n",
    "        print(c)\n",
    "\n",
    "num1 = int(input())\n",
    "num2 = int(input())\n",
    "num3 = int(input())\n",
    "\n",
    "max(num1 , num2 , num3)\n",
    "\n"
   ]
  },
  {
   "cell_type": "code",
   "execution_count": null,
   "id": "bd636523",
   "metadata": {},
   "outputs": [],
   "source": []
  },
  {
   "cell_type": "code",
   "execution_count": null,
   "id": "e279e27b",
   "metadata": {},
   "outputs": [],
   "source": []
  },
  {
   "cell_type": "code",
   "execution_count": null,
   "id": "3de988b9",
   "metadata": {},
   "outputs": [],
   "source": []
  }
 ],
 "metadata": {
  "kernelspec": {
   "display_name": "Python 3 (ipykernel)",
   "language": "python",
   "name": "python3"
  },
  "language_info": {
   "codemirror_mode": {
    "name": "ipython",
    "version": 3
   },
   "file_extension": ".py",
   "mimetype": "text/x-python",
   "name": "python",
   "nbconvert_exporter": "python",
   "pygments_lexer": "ipython3",
   "version": "3.9.7"
  }
 },
 "nbformat": 4,
 "nbformat_minor": 5
}
