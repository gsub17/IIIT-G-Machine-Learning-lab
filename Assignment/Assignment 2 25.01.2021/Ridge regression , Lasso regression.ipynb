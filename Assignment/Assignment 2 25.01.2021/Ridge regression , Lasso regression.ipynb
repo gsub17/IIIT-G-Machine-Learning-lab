{
 "cells": [
  {
   "cell_type": "code",
   "execution_count": 1,
   "id": "a1b4959c",
   "metadata": {},
   "outputs": [],
   "source": [
    "import numpy as np\n",
    "import pandas as pd\n",
    "import matplotlib.pyplot as plt\n",
    "from sklearn import datasets\n",
    "from sklearn.model_selection import train_test_split\n",
    "from sklearn.linear_model import LinearRegression"
   ]
  },
  {
   "cell_type": "markdown",
   "id": "6485a7ac",
   "metadata": {},
   "source": [
    "### loading the data"
   ]
  },
  {
   "cell_type": "code",
   "execution_count": 2,
   "id": "a4b2cdbc",
   "metadata": {},
   "outputs": [
    {
     "name": "stderr",
     "output_type": "stream",
     "text": [
      "C:\\Users\\Subhajit ghosh\\lib\\site-packages\\sklearn\\utils\\deprecation.py:87: FutureWarning: Function load_boston is deprecated; `load_boston` is deprecated in 1.0 and will be removed in 1.2.\n",
      "\n",
      "    The Boston housing prices dataset has an ethical problem. You can refer to\n",
      "    the documentation of this function for further details.\n",
      "\n",
      "    The scikit-learn maintainers therefore strongly discourage the use of this\n",
      "    dataset unless the purpose of the code is to study and educate about\n",
      "    ethical issues in data science and machine learning.\n",
      "\n",
      "    In this special case, you can fetch the dataset from the original\n",
      "    source::\n",
      "\n",
      "        import pandas as pd\n",
      "        import numpy as np\n",
      "\n",
      "\n",
      "        data_url = \"http://lib.stat.cmu.edu/datasets/boston\"\n",
      "        raw_df = pd.read_csv(data_url, sep=\"\\s+\", skiprows=22, header=None)\n",
      "        data = np.hstack([raw_df.values[::2, :], raw_df.values[1::2, :2]])\n",
      "        target = raw_df.values[1::2, 2]\n",
      "\n",
      "    Alternative datasets include the California housing dataset (i.e.\n",
      "    :func:`~sklearn.datasets.fetch_california_housing`) and the Ames housing\n",
      "    dataset. You can load the datasets as follows::\n",
      "\n",
      "        from sklearn.datasets import fetch_california_housing\n",
      "        housing = fetch_california_housing()\n",
      "\n",
      "    for the California housing dataset and::\n",
      "\n",
      "        from sklearn.datasets import fetch_openml\n",
      "        housing = fetch_openml(name=\"house_prices\", as_frame=True)\n",
      "\n",
      "    for the Ames housing dataset.\n",
      "    \n",
      "  warnings.warn(msg, category=FutureWarning)\n"
     ]
    }
   ],
   "source": [
    "dataset = datasets.load_boston()"
   ]
  },
  {
   "cell_type": "code",
   "execution_count": 7,
   "id": "1d039631",
   "metadata": {},
   "outputs": [
    {
     "data": {
      "text/html": [
       "<div>\n",
       "<style scoped>\n",
       "    .dataframe tbody tr th:only-of-type {\n",
       "        vertical-align: middle;\n",
       "    }\n",
       "\n",
       "    .dataframe tbody tr th {\n",
       "        vertical-align: top;\n",
       "    }\n",
       "\n",
       "    .dataframe thead th {\n",
       "        text-align: right;\n",
       "    }\n",
       "</style>\n",
       "<table border=\"1\" class=\"dataframe\">\n",
       "  <thead>\n",
       "    <tr style=\"text-align: right;\">\n",
       "      <th></th>\n",
       "      <th>CRIM</th>\n",
       "      <th>ZN</th>\n",
       "      <th>INDUS</th>\n",
       "      <th>CHAS</th>\n",
       "      <th>NOX</th>\n",
       "      <th>RM</th>\n",
       "      <th>AGE</th>\n",
       "      <th>DIS</th>\n",
       "      <th>RAD</th>\n",
       "      <th>TAX</th>\n",
       "      <th>PTRATIO</th>\n",
       "      <th>B</th>\n",
       "      <th>LSTAT</th>\n",
       "      <th>House Price</th>\n",
       "    </tr>\n",
       "  </thead>\n",
       "  <tbody>\n",
       "    <tr>\n",
       "      <th>0</th>\n",
       "      <td>0.00632</td>\n",
       "      <td>18.0</td>\n",
       "      <td>2.31</td>\n",
       "      <td>0.0</td>\n",
       "      <td>0.538</td>\n",
       "      <td>6.575</td>\n",
       "      <td>65.2</td>\n",
       "      <td>4.0900</td>\n",
       "      <td>1.0</td>\n",
       "      <td>296.0</td>\n",
       "      <td>15.3</td>\n",
       "      <td>396.90</td>\n",
       "      <td>4.98</td>\n",
       "      <td>24.0</td>\n",
       "    </tr>\n",
       "    <tr>\n",
       "      <th>1</th>\n",
       "      <td>0.02731</td>\n",
       "      <td>0.0</td>\n",
       "      <td>7.07</td>\n",
       "      <td>0.0</td>\n",
       "      <td>0.469</td>\n",
       "      <td>6.421</td>\n",
       "      <td>78.9</td>\n",
       "      <td>4.9671</td>\n",
       "      <td>2.0</td>\n",
       "      <td>242.0</td>\n",
       "      <td>17.8</td>\n",
       "      <td>396.90</td>\n",
       "      <td>9.14</td>\n",
       "      <td>21.6</td>\n",
       "    </tr>\n",
       "    <tr>\n",
       "      <th>2</th>\n",
       "      <td>0.02729</td>\n",
       "      <td>0.0</td>\n",
       "      <td>7.07</td>\n",
       "      <td>0.0</td>\n",
       "      <td>0.469</td>\n",
       "      <td>7.185</td>\n",
       "      <td>61.1</td>\n",
       "      <td>4.9671</td>\n",
       "      <td>2.0</td>\n",
       "      <td>242.0</td>\n",
       "      <td>17.8</td>\n",
       "      <td>392.83</td>\n",
       "      <td>4.03</td>\n",
       "      <td>34.7</td>\n",
       "    </tr>\n",
       "    <tr>\n",
       "      <th>3</th>\n",
       "      <td>0.03237</td>\n",
       "      <td>0.0</td>\n",
       "      <td>2.18</td>\n",
       "      <td>0.0</td>\n",
       "      <td>0.458</td>\n",
       "      <td>6.998</td>\n",
       "      <td>45.8</td>\n",
       "      <td>6.0622</td>\n",
       "      <td>3.0</td>\n",
       "      <td>222.0</td>\n",
       "      <td>18.7</td>\n",
       "      <td>394.63</td>\n",
       "      <td>2.94</td>\n",
       "      <td>33.4</td>\n",
       "    </tr>\n",
       "    <tr>\n",
       "      <th>4</th>\n",
       "      <td>0.06905</td>\n",
       "      <td>0.0</td>\n",
       "      <td>2.18</td>\n",
       "      <td>0.0</td>\n",
       "      <td>0.458</td>\n",
       "      <td>7.147</td>\n",
       "      <td>54.2</td>\n",
       "      <td>6.0622</td>\n",
       "      <td>3.0</td>\n",
       "      <td>222.0</td>\n",
       "      <td>18.7</td>\n",
       "      <td>396.90</td>\n",
       "      <td>5.33</td>\n",
       "      <td>36.2</td>\n",
       "    </tr>\n",
       "  </tbody>\n",
       "</table>\n",
       "</div>"
      ],
      "text/plain": [
       "      CRIM    ZN  INDUS  CHAS    NOX     RM   AGE     DIS  RAD    TAX  \\\n",
       "0  0.00632  18.0   2.31   0.0  0.538  6.575  65.2  4.0900  1.0  296.0   \n",
       "1  0.02731   0.0   7.07   0.0  0.469  6.421  78.9  4.9671  2.0  242.0   \n",
       "2  0.02729   0.0   7.07   0.0  0.469  7.185  61.1  4.9671  2.0  242.0   \n",
       "3  0.03237   0.0   2.18   0.0  0.458  6.998  45.8  6.0622  3.0  222.0   \n",
       "4  0.06905   0.0   2.18   0.0  0.458  7.147  54.2  6.0622  3.0  222.0   \n",
       "\n",
       "   PTRATIO       B  LSTAT  House Price  \n",
       "0     15.3  396.90   4.98         24.0  \n",
       "1     17.8  396.90   9.14         21.6  \n",
       "2     17.8  392.83   4.03         34.7  \n",
       "3     18.7  394.63   2.94         33.4  \n",
       "4     18.7  396.90   5.33         36.2  "
      ]
     },
     "execution_count": 7,
     "metadata": {},
     "output_type": "execute_result"
    }
   ],
   "source": [
    "data = pd.DataFrame(dataset.data)\n",
    "data.columns = dataset.feature_names\n",
    "data_target = np.asarray(dataset.target)\n",
    "data['House Price'] = pd.Series(data_target)\n",
    "\n",
    "#input\n",
    "X = data.iloc[:,:-1]\n",
    "\n",
    "#output\n",
    "y= data.iloc[:,-1]\n",
    "\n",
    "data.head()\n"
   ]
  },
  {
   "cell_type": "code",
   "execution_count": 9,
   "id": "32ff77f0",
   "metadata": {},
   "outputs": [
    {
     "name": "stdout",
     "output_type": "stream",
     "text": [
      "(379, 13) (379,)\n",
      "(127, 13) (127,)\n"
     ]
    }
   ],
   "source": [
    "X_train, X_test, y_train, y_test = train_test_split(X, y, test_size=0.25, random_state=0)\n",
    "\n",
    "print(X_train.shape , y_train.shape )\n",
    "\n",
    "print(X_test.shape , y_test.shape)"
   ]
  },
  {
   "cell_type": "markdown",
   "id": "52ee2b74",
   "metadata": {},
   "source": [
    "## applying linear regression model"
   ]
  },
  {
   "cell_type": "code",
   "execution_count": 16,
   "id": "568d4e03",
   "metadata": {},
   "outputs": [
    {
     "name": "stdout",
     "output_type": "stream",
     "text": [
      "29.782245092302485\n",
      "------------------------------------\n",
      "    Columns  Coefficient Estimate\n",
      "0      CRIM             -0.117735\n",
      "1        ZN              0.044017\n",
      "2     INDUS             -0.005768\n",
      "3      CHAS              2.393416\n",
      "4       NOX            -15.589421\n",
      "5        RM              3.768968\n",
      "6       AGE             -0.007035\n",
      "7       DIS             -1.434956\n",
      "8       RAD              0.240081\n",
      "9       TAX             -0.011297\n",
      "10  PTRATIO             -0.985547\n",
      "11        B              0.008444\n",
      "12    LSTAT             -0.499117\n"
     ]
    }
   ],
   "source": [
    "linear_reg = LinearRegression()\n",
    "linear_reg.fit(X_train , y_train)\n",
    "\n",
    "linear_reg_predict = linear_reg.predict(X_test)\n",
    "\n",
    "mean_sq_error = np.mean((linear_reg_predict - y_test)**2)\n",
    "print(mean_sq_error)\n",
    "\n",
    "print(\"------------------------------------\")\n",
    "\n",
    "linear_reg_coeff = pd.DataFrame()\n",
    "linear_reg_coeff['Columns'] = X_train.columns\n",
    "linear_reg_coeff['Coefficient Estimate'] = pd.Series(linear_reg.coef_)\n",
    "print(linear_reg_coeff)\n"
   ]
  },
  {
   "cell_type": "code",
   "execution_count": 26,
   "id": "8123af8f",
   "metadata": {},
   "outputs": [
    {
     "data": {
      "image/png": "[encoded data removed]",
      "text/plain": [
       "<Figure size 1440x720 with 1 Axes>"
      ]
     },
     "metadata": {},
     "output_type": "display_data"
    }
   ],
   "source": [
    "## ploting the coefficeint score\n",
    "\n",
    "fig , ax = plt.subplots(figsize = (20 ,10))\n",
    "\n",
    "ax.bar(linear_reg_coeff['Columns'],linear_reg_coeff['Coefficient Estimate'])\n",
    "\n",
    "ax.spines['bottom'].set_position('zero')\n",
    "\n",
    "plt.style.use('ggplot')\n",
    "plt.show()"
   ]
  },
  {
   "cell_type": "markdown",
   "id": "87ac6bc2",
   "metadata": {},
   "source": [
    "## Ridge regression"
   ]
  },
  {
   "cell_type": "code",
   "execution_count": 35,
   "id": "ebd55e01",
   "metadata": {},
   "outputs": [
    {
     "name": "stdout",
     "output_type": "stream",
     "text": [
      "30.504923770804748\n",
      "----------------------------------\n",
      "    Columns  Coefficient Estimates\n",
      "0      CRIM              -0.114786\n",
      "1        ZN               0.045418\n",
      "2     INDUS              -0.035403\n",
      "3      CHAS               2.303291\n",
      "4       NOX              -8.127445\n",
      "5        RM               3.806341\n",
      "6       AGE              -0.014282\n",
      "7       DIS              -1.336939\n",
      "8       RAD               0.216748\n",
      "9       TAX              -0.011755\n",
      "10  PTRATIO              -0.903937\n",
      "11        B               0.008813\n",
      "12    LSTAT              -0.507425\n"
     ]
    }
   ],
   "source": [
    "from sklearn.linear_model import Ridge\n",
    "\n",
    "## train the model\n",
    "ridgeR = Ridge(alpha = 1)\n",
    "ridgeR.fit(X_train,y_train)\n",
    "y_pred = ridgeR.predict(X_test)\n",
    "\n",
    "## squared mean error\n",
    "mean_squared_error_ridge = np.mean((y_pred - y_test)**2)\n",
    "print(mean_squared_error_ridge)\n",
    "\n",
    "print(\"----------------------------------\")\n",
    "\n",
    "## ridge coefficients\n",
    "ridge_coeff = pd.DataFrame()\n",
    "ridge_coeff['Columns'] = X_train.columns\n",
    "ridge_coeff['Coefficient Estimates'] = pd.Series(ridgeR.coef_)\n",
    "print(ridge_coeff)"
   ]
  },
  {
   "cell_type": "code",
   "execution_count": 30,
   "id": "68b0ecbf",
   "metadata": {},
   "outputs": [
    {
     "data": {
      "image/png": "[encoded data removed]",
      "text/plain": [
       "<Figure size 1440x720 with 1 Axes>"
      ]
     },
     "metadata": {},
     "output_type": "display_data"
    }
   ],
   "source": [
    "## ploting the coefficeint score\n",
    "\n",
    "fig , ax = plt.subplots(figsize = (20 ,10))\n",
    "\n",
    "ax.bar(ridge_coeff['Columns'],ridge_coeff['Coefficient Estimates'])\n",
    "\n",
    "ax.spines['bottom'].set_position('zero')\n",
    "\n",
    "plt.style.use('ggplot')\n",
    "plt.show()"
   ]
  },
  {
   "cell_type": "markdown",
   "id": "05335b13",
   "metadata": {},
   "source": [
    "## Lasso regression"
   ]
  },
  {
   "cell_type": "code",
   "execution_count": 36,
   "id": "e8edf639",
   "metadata": {},
   "outputs": [
    {
     "name": "stdout",
     "output_type": "stream",
     "text": [
      "36.63182007429979\n",
      "----------------------------------\n",
      "    Columns  Coefficient Estimates\n",
      "0      CRIM              -0.058738\n",
      "1        ZN               0.049994\n",
      "2     INDUS              -0.001589\n",
      "3      CHAS               0.000000\n",
      "4       NOX              -0.000000\n",
      "5        RM               0.761785\n",
      "6       AGE               0.013047\n",
      "7       DIS              -0.710109\n",
      "8       RAD               0.195516\n",
      "9       TAX              -0.014148\n",
      "10  PTRATIO              -0.805246\n",
      "11        B               0.007098\n",
      "12    LSTAT              -0.742146\n"
     ]
    }
   ],
   "source": [
    "from sklearn.linear_model import Lasso\n",
    "\n",
    "## train the model\n",
    "lassoR = Lasso(alpha = 1)\n",
    "lassoR.fit(X_train,y_train)\n",
    "y_pred = lassoR.predict(X_test)\n",
    "\n",
    "## squared mean error\n",
    "mean_squared_error_ridge = np.mean((y_pred - y_test)**2)\n",
    "print(mean_squared_error_ridge)\n",
    "\n",
    "print(\"----------------------------------\")\n",
    "\n",
    "## ridge coefficients\n",
    "lasso_coeff = pd.DataFrame()\n",
    "lasso_coeff['Columns'] = X_train.columns\n",
    "lasso_coeff['Coefficient Estimates'] = pd.Series(lassoR.coef_)\n",
    "print(lasso_coeff)"
   ]
  },
  {
   "cell_type": "code",
   "execution_count": 33,
   "id": "3ecd3760",
   "metadata": {},
   "outputs": [
    {
     "data": {
      "image/png": "[encoded data removed]",
      "text/plain": [
       "<Figure size 1440x720 with 1 Axes>"
      ]
     },
     "metadata": {},
     "output_type": "display_data"
    }
   ],
   "source": [
    "## ploting the coefficeint score\n",
    "\n",
    "fig , ax = plt.subplots(figsize = (20 ,10))\n",
    "\n",
    "ax.bar(lasso_coeff['Columns'],lasso_coeff['Coefficient Estimates'])\n",
    "\n",
    "ax.spines['bottom'].set_position('zero')\n",
    "\n",
    "plt.style.use('ggplot')\n",
    "plt.show()"
   ]
  }
 ],
 "metadata": {
  "kernelspec": {
   "display_name": "Python 3 (ipykernel)",
   "language": "python",
   "name": "python3"
  },
  "language_info": {
   "codemirror_mode": {
    "name": "ipython",
    "version": 3
   },
   "file_extension": ".py",
   "mimetype": "text/x-python",
   "name": "python",
   "nbconvert_exporter": "python",
   "pygments_lexer": "ipython3",
   "version": "3.9.7"
  }
 },
 "nbformat": 4,
 "nbformat_minor": 5
}
