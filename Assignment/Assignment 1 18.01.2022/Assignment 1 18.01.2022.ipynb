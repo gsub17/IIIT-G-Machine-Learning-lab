{
 "cells": [
  {
   "cell_type": "code",
   "execution_count": 1,
   "id": "7990c228",
   "metadata": {},
   "outputs": [],
   "source": [
    "import matplotlib.pyplot as plt\n",
    "import numpy as np\n",
    "import pandas as pd\n",
    "from sklearn.model_selection import train_test_split\n",
    "from sklearn.linear_model import LinearRegression"
   ]
  },
  {
   "cell_type": "code",
   "execution_count": 2,
   "id": "fc9ae10a",
   "metadata": {},
   "outputs": [],
   "source": [
    "dataset = pd.read_csv('C:/Users/Subhajit ghosh/Desktop/IIIT GUWAHATI/2nd semester/IIIT-G-Machine-Learning-lab/Assignment/Assignment 1 18.01.2022/DataSet1.csv')"
   ]
  },
  {
   "cell_type": "code",
   "execution_count": 18,
   "id": "0f954f3c",
   "metadata": {},
   "outputs": [
    {
     "name": "stdout",
     "output_type": "stream",
     "text": [
      "    Hours of Sunshine  Ice cream Sold\n",
      "0                   2               4\n",
      "1                   3               5\n",
      "2                   5               7\n",
      "3                   7              10\n",
      "4                   9              15\n",
      "5                  10              16\n",
      "6                   1               2\n",
      "7                   3               6\n",
      "8                   6               9\n",
      "9                   2               4\n",
      "10                  9              14\n",
      "11                 12              20\n",
      "12                 11              18\n",
      "13                  2               5\n",
      "14                  5               8\n",
      "15                 10              15\n",
      "16                  3               8\n",
      "17                  1               3\n",
      "18                  9              15\n",
      "19                  4               7\n",
      "20                  3               5\n",
      "21                  8              10\n",
      "22                 10              13\n",
      "23                  2               5\n",
      "24                  9              14\n",
      "25                  7               9\n",
      "26                  8              11\n",
      "27                 10              13\n",
      "28                 12              16\n",
      "29                  2               5\n"
     ]
    }
   ],
   "source": [
    "print(dataset)"
   ]
  },
  {
   "cell_type": "markdown",
   "id": "3a8e3586",
   "metadata": {},
   "source": [
    "### 1.a creating training and testing set"
   ]
  },
  {
   "cell_type": "code",
   "execution_count": 8,
   "id": "4532e9d8",
   "metadata": {},
   "outputs": [
    {
     "name": "stdout",
     "output_type": "stream",
     "text": [
      "(30,)\n",
      "(30,)\n",
      "(24,) (24,)\n",
      "(6,) (6,)\n"
     ]
    }
   ],
   "source": [
    "\n",
    "X = dataset.iloc[:,0]\n",
    "y = dataset.iloc[:,1]\n",
    "print(X.shape)\n",
    "print(y.shape)\n",
    "\n",
    "X_train , X_test , y_train , y_test = train_test_split(X,y,test_size = 0.2 ,random_state = 0)\n",
    "\n",
    "print(X_train.shape , y_train.shape)\n",
    "print(X_test.shape , y_test.shape)"
   ]
  },
  {
   "cell_type": "markdown",
   "id": "fc342d4e",
   "metadata": {},
   "source": [
    "### 1.b plot the training data"
   ]
  },
  {
   "cell_type": "code",
   "execution_count": 10,
   "id": "054854c4",
   "metadata": {},
   "outputs": [
    {
     "data": {
      "image/png": "[encoded data removed]",
      "text/plain": [
       "<Figure size 432x288 with 1 Axes>"
      ]
     },
     "metadata": {
      "needs_background": "light"
     },
     "output_type": "display_data"
    }
   ],
   "source": [
    "plt.scatter(X_train , y_train , c ='blue' )\n",
    "plt.xlabel(\"Feature / Hours of Sunshine\")\n",
    "plt.ylabel(\"label / Ice cream sold\")\n",
    "plt.show()"
   ]
  },
  {
   "cell_type": "code",
   "execution_count": 11,
   "id": "4b381394",
   "metadata": {},
   "outputs": [
    {
     "name": "stdout",
     "output_type": "stream",
     "text": [
      "(30,) (30,)\n"
     ]
    }
   ],
   "source": [
    "print(X.shape , y.shape)\n"
   ]
  },
  {
   "cell_type": "markdown",
   "id": "316c15c7",
   "metadata": {},
   "source": [
    "### 1.c linear regression\n"
   ]
  },
  {
   "cell_type": "code",
   "execution_count": 12,
   "id": "656b3036",
   "metadata": {},
   "outputs": [
    {
     "name": "stdout",
     "output_type": "stream",
     "text": [
      "(24,) (24,)\n",
      "(24, 1) (24,)\n"
     ]
    }
   ],
   "source": [
    "## here we are reshaping X_train in 2d array\n",
    "X_train = np.array(X_train)\n",
    "print(X_train.shape , y_train.shape)\n",
    "X_train = X_train.reshape(-1,1)\n",
    "print(X_train.shape , y_train.shape)\n",
    "regressor = LinearRegression()\n"
   ]
  },
  {
   "cell_type": "code",
   "execution_count": 13,
   "id": "7f6f8fc4",
   "metadata": {},
   "outputs": [
    {
     "data": {
      "text/plain": [
       "LinearRegression()"
      ]
     },
     "execution_count": 13,
     "metadata": {},
     "output_type": "execute_result"
    }
   ],
   "source": [
    "regressor = LinearRegression()\n",
    "regressor.fit(X_train , y_train)\n"
   ]
  },
  {
   "cell_type": "code",
   "execution_count": null,
   "id": "4efb5bd4",
   "metadata": {},
   "outputs": [],
   "source": [
    "m = ((X[:,0]*y).mean() - X[:,0].mean()*y.mean())/((X[:,0]**2).mean() - (X[:,0].mean())**2)\n",
    "c = y.mean() - m*X[:,0].mean()\n",
    "print(m,c)"
   ]
  },
  {
   "cell_type": "code",
   "execution_count": 14,
   "id": "d10c9dce",
   "metadata": {},
   "outputs": [
    {
     "name": "stdout",
     "output_type": "stream",
     "text": [
      "[ 8.23901099 17.78131868  4.14945055 13.69175824 12.32857143 13.69175824]\n",
      "(6, 1) (6,)\n"
     ]
    }
   ],
   "source": [
    "X_test = np.array(X_test).reshape(-1,1)\n",
    "y_pred = regressor.predict(X_test)\n",
    "print(y_pred)\n",
    "print(X_test.shape , y_pred.shape)"
   ]
  },
  {
   "cell_type": "code",
   "execution_count": 15,
   "id": "90dc1dac",
   "metadata": {},
   "outputs": [
    {
     "data": {
      "text/plain": [
       "array([1.36318681])"
      ]
     },
     "execution_count": 15,
     "metadata": {},
     "output_type": "execute_result"
    }
   ],
   "source": [
    "regressor.coef_"
   ]
  },
  {
   "cell_type": "code",
   "execution_count": 16,
   "id": "6a9ac209",
   "metadata": {},
   "outputs": [
    {
     "data": {
      "text/plain": [
       "1.4230769230769242"
      ]
     },
     "execution_count": 16,
     "metadata": {},
     "output_type": "execute_result"
    }
   ],
   "source": [
    "regressor.intercept_"
   ]
  },
  {
   "cell_type": "code",
   "execution_count": 17,
   "id": "7550c0c2",
   "metadata": {},
   "outputs": [
    {
     "data": {
      "image/png": "[encoded data removed]",
      "text/plain": [
       "<Figure size 432x288 with 1 Axes>"
      ]
     },
     "metadata": {
      "needs_background": "light"
     },
     "output_type": "display_data"
    }
   ],
   "source": [
    "plt.scatter(X_train , y_train , c = 'blue' , label='data')\n",
    "plt.scatter(X_test , y_pred , c = 'red' , label='predicted values')\n",
    "plt.xlabel(\"Feature / Hours of Sunshine\")\n",
    "plt.ylabel(\"Label / Ice cream sold\")\n",
    "plt.legend()\n",
    "plt.show()"
   ]
  },
  {
   "cell_type": "markdown",
   "id": "f2e14be5",
   "metadata": {},
   "source": [
    "## Multiple independent variable"
   ]
  },
  {
   "cell_type": "code",
   "execution_count": 47,
   "id": "a533ef1c",
   "metadata": {},
   "outputs": [],
   "source": [
    "dataset2 = pd.read_csv('C:/Users/Subhajit ghosh/Desktop/IIIT GUWAHATI/2nd semester/IIIT-G-Machine-Learning-lab/Assignment/Assignment 1 18.01.2022/DataSet2.csv')"
   ]
  },
  {
   "cell_type": "code",
   "execution_count": 48,
   "id": "f2375646",
   "metadata": {},
   "outputs": [
    {
     "data": {
      "text/html": [
       "<div>\n",
       "<style scoped>\n",
       "    .dataframe tbody tr th:only-of-type {\n",
       "        vertical-align: middle;\n",
       "    }\n",
       "\n",
       "    .dataframe tbody tr th {\n",
       "        vertical-align: top;\n",
       "    }\n",
       "\n",
       "    .dataframe thead th {\n",
       "        text-align: right;\n",
       "    }\n",
       "</style>\n",
       "<table border=\"1\" class=\"dataframe\">\n",
       "  <thead>\n",
       "    <tr style=\"text-align: right;\">\n",
       "      <th></th>\n",
       "      <th>experience</th>\n",
       "      <th>test_score</th>\n",
       "      <th>interview_score</th>\n",
       "      <th>salary</th>\n",
       "    </tr>\n",
       "  </thead>\n",
       "  <tbody>\n",
       "    <tr>\n",
       "      <th>0</th>\n",
       "      <td>0</td>\n",
       "      <td>8</td>\n",
       "      <td>9</td>\n",
       "      <td>50000</td>\n",
       "    </tr>\n",
       "    <tr>\n",
       "      <th>1</th>\n",
       "      <td>0</td>\n",
       "      <td>8</td>\n",
       "      <td>6</td>\n",
       "      <td>45000</td>\n",
       "    </tr>\n",
       "    <tr>\n",
       "      <th>2</th>\n",
       "      <td>5</td>\n",
       "      <td>6</td>\n",
       "      <td>7</td>\n",
       "      <td>60000</td>\n",
       "    </tr>\n",
       "    <tr>\n",
       "      <th>3</th>\n",
       "      <td>2</td>\n",
       "      <td>10</td>\n",
       "      <td>10</td>\n",
       "      <td>65000</td>\n",
       "    </tr>\n",
       "    <tr>\n",
       "      <th>4</th>\n",
       "      <td>7</td>\n",
       "      <td>9</td>\n",
       "      <td>6</td>\n",
       "      <td>70000</td>\n",
       "    </tr>\n",
       "  </tbody>\n",
       "</table>\n",
       "</div>"
      ],
      "text/plain": [
       "   experience   test_score  interview_score  salary\n",
       "0            0           8                9   50000\n",
       "1            0           8                6   45000\n",
       "2            5           6                7   60000\n",
       "3            2          10               10   65000\n",
       "4            7           9                6   70000"
      ]
     },
     "execution_count": 48,
     "metadata": {},
     "output_type": "execute_result"
    }
   ],
   "source": [
    "dataset2.head()"
   ]
  },
  {
   "cell_type": "code",
   "execution_count": 53,
   "id": "18a9ea80",
   "metadata": {},
   "outputs": [
    {
     "name": "stdout",
     "output_type": "stream",
     "text": [
      "   experience   test_score  interview_score\n",
      "0            0           8                9\n",
      "1            0           8                6\n",
      "2            5           6                7\n",
      "3            2          10               10\n",
      "4            7           9                6\n",
      "0    50000\n",
      "1    45000\n",
      "2    60000\n",
      "3    65000\n",
      "4    70000\n",
      "Name: salary, dtype: int64\n"
     ]
    }
   ],
   "source": [
    "X = dataset2.iloc[:,0:3]\n",
    "print(X.head())\n",
    "\n",
    "y = dataset2.iloc[:,3]\n",
    "print(y.head())"
   ]
  },
  {
   "cell_type": "markdown",
   "id": "6dfc3440",
   "metadata": {},
   "source": [
    "### 2.a creating training and test dataset"
   ]
  },
  {
   "cell_type": "code",
   "execution_count": 54,
   "id": "27190028",
   "metadata": {},
   "outputs": [
    {
     "name": "stdout",
     "output_type": "stream",
     "text": [
      "(24, 3) (24,)\n",
      "(6, 3) (6,)\n"
     ]
    }
   ],
   "source": [
    "X_train , X_test , y_train , y_test = train_test_split(X,y,test_size = 0.2 ,random_state = 0)\n",
    "\n",
    "print(X_train.shape , y_train.shape)\n",
    "print(X_test.shape , y_test.shape)"
   ]
  },
  {
   "cell_type": "markdown",
   "id": "f9f7e6b1",
   "metadata": {},
   "source": [
    "### 2.c linear regression using multiple variable"
   ]
  },
  {
   "cell_type": "code",
   "execution_count": 56,
   "id": "64d59567",
   "metadata": {},
   "outputs": [
    {
     "data": {
      "text/plain": [
       "LinearRegression()"
      ]
     },
     "execution_count": 56,
     "metadata": {},
     "output_type": "execute_result"
    }
   ],
   "source": [
    "regressor = LinearRegression()\n",
    "regressor.fit(X_train , y_train)"
   ]
  },
  {
   "cell_type": "code",
   "execution_count": 57,
   "id": "1c93fcca",
   "metadata": {},
   "outputs": [
    {
     "name": "stdout",
     "output_type": "stream",
     "text": [
      "[44615.30257706 54751.85016268 41935.48453916 38947.78477071\n",
      " 63755.9875115  30251.52915245]\n",
      "(6, 3) (6,)\n"
     ]
    }
   ],
   "source": [
    "y_pred = regressor.predict(X_test)\n",
    "print(y_pred)\n",
    "print(X_test.shape , y_pred.shape)"
   ]
  },
  {
   "cell_type": "code",
   "execution_count": 58,
   "id": "47d8adb8",
   "metadata": {},
   "outputs": [
    {
     "data": {
      "text/plain": [
       "array([1339.90901895, 3437.00249087, 3744.88422143])"
      ]
     },
     "execution_count": 58,
     "metadata": {},
     "output_type": "execute_result"
    }
   ],
   "source": [
    "regressor.coef_"
   ]
  },
  {
   "cell_type": "code",
   "execution_count": 59,
   "id": "7a4fb668",
   "metadata": {},
   "outputs": [
    {
     "data": {
      "text/plain": [
       "-8920.44701295592"
      ]
     },
     "execution_count": 59,
     "metadata": {},
     "output_type": "execute_result"
    }
   ],
   "source": [
    "regressor.intercept_"
   ]
  },
  {
   "cell_type": "code",
   "execution_count": null,
   "id": "8667ddb6",
   "metadata": {},
   "outputs": [],
   "source": []
  }
 ],
 "metadata": {
  "kernelspec": {
   "display_name": "Python 3 (ipykernel)",
   "language": "python",
   "name": "python3"
  },
  "language_info": {
   "codemirror_mode": {
    "name": "ipython",
    "version": 3
   },
   "file_extension": ".py",
   "mimetype": "text/x-python",
   "name": "python",
   "nbconvert_exporter": "python",
   "pygments_lexer": "ipython3",
   "version": "3.9.7"
  }
 },
 "nbformat": 4,
 "nbformat_minor": 5
}
